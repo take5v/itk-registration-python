{
 "cells": [
  {
   "cell_type": "code",
   "execution_count": 1,
   "metadata": {},
   "outputs": [],
   "source": [
    "import os\n",
    "\n",
    "import numpy as np\n",
    "import itk\n",
    "from itkwidgets import view"
   ]
  },
  {
   "cell_type": "code",
   "execution_count": 2,
   "metadata": {},
   "outputs": [],
   "source": [
    "ROOT_DIR = '/home/stanislau/repository/builds/itk/ITK/Examples/Data/'"
   ]
  },
  {
   "cell_type": "code",
   "execution_count": 25,
   "metadata": {},
   "outputs": [],
   "source": [
    "fixed_filename = os.path.join(ROOT_DIR, 'BrainT1SliceBorder20.png')\n",
    "moving_filename = os.path.join(ROOT_DIR, 'BrainProtonDensitySliceR10X13Y17.png')"
   ]
  },
  {
   "cell_type": "code",
   "execution_count": 26,
   "metadata": {},
   "outputs": [],
   "source": [
    "PixelType = itk.F\n",
    "Dimension = 2\n",
    "\n",
    "ImageType = itk.Image[PixelType, Dimension]"
   ]
  },
  {
   "cell_type": "code",
   "execution_count": 27,
   "metadata": {},
   "outputs": [],
   "source": [
    "TTransformType = itk.TranslationTransform[itk.D, Dimension]"
   ]
  },
  {
   "cell_type": "code",
   "execution_count": 28,
   "metadata": {},
   "outputs": [],
   "source": [
    "TOptimizerType = itk.RegularStepGradientDescentOptimizerv4[itk.D]\n",
    "MetricType = itk.MattesMutualInformationImageToImageMetricv4[ImageType, ImageType]\n",
    "TRegistrationType = itk.ImageRegistrationMethodv4[ImageType, ImageType]"
   ]
  },
  {
   "cell_type": "code",
   "execution_count": 29,
   "metadata": {},
   "outputs": [],
   "source": [
    "trans_optimizer = TOptimizerType.New()\n",
    "trans_metric = MetricType.New()\n",
    "trans_registration = TRegistrationType.New()"
   ]
  },
  {
   "cell_type": "code",
   "execution_count": 30,
   "metadata": {},
   "outputs": [],
   "source": [
    "trans_registration.SetOptimizer(trans_optimizer)\n",
    "trans_registration.SetMetric(trans_metric)"
   ]
  },
  {
   "cell_type": "code",
   "execution_count": null,
   "metadata": {},
   "outputs": [],
   "source": []
  },
  {
   "cell_type": "code",
   "execution_count": 31,
   "metadata": {},
   "outputs": [],
   "source": [
    "moving_init_tx = TTransformType.New()"
   ]
  },
  {
   "cell_type": "code",
   "execution_count": null,
   "metadata": {},
   "outputs": [],
   "source": []
  },
  {
   "cell_type": "code",
   "execution_count": 33,
   "metadata": {},
   "outputs": [],
   "source": [
    "initial_parameters = itk.OptimizerParameters.D(2)\n",
    "initial_parameters[0] = 3.0\n",
    "initial_parameters[1] = 5.0"
   ]
  },
  {
   "cell_type": "code",
   "execution_count": 34,
   "metadata": {},
   "outputs": [],
   "source": [
    "moving_init_tx.SetParameters(initial_parameters)"
   ]
  },
  {
   "cell_type": "code",
   "execution_count": 35,
   "metadata": {},
   "outputs": [],
   "source": [
    "trans_registration.SetMovingInitialTransform(moving_init_tx)"
   ]
  },
  {
   "cell_type": "code",
   "execution_count": null,
   "metadata": {},
   "outputs": [],
   "source": []
  },
  {
   "cell_type": "code",
   "execution_count": 36,
   "metadata": {},
   "outputs": [],
   "source": [
    "CompositeTransformType = itk.CompositeTransform[itk.D, Dimension]\n",
    "composite_transform = CompositeTransformType.New()\n",
    "composite_transform.AddTransform(moving_init_tx)"
   ]
  },
  {
   "cell_type": "code",
   "execution_count": null,
   "metadata": {},
   "outputs": [],
   "source": []
  },
  {
   "cell_type": "code",
   "execution_count": 37,
   "metadata": {},
   "outputs": [],
   "source": [
    "fixed_image_reader = itk.ImageFileReader[ImageType].New()\n",
    "moving_image_reader = itk.ImageFileReader[ImageType].New()"
   ]
  },
  {
   "cell_type": "code",
   "execution_count": 38,
   "metadata": {},
   "outputs": [],
   "source": [
    "fixed_image_reader.SetFileName(fixed_filename)\n",
    "moving_image_reader.SetFileName(moving_filename)"
   ]
  },
  {
   "cell_type": "code",
   "execution_count": null,
   "metadata": {},
   "outputs": [],
   "source": []
  },
  {
   "cell_type": "code",
   "execution_count": 39,
   "metadata": {},
   "outputs": [],
   "source": [
    "trans_registration.SetFixedImage(fixed_image_reader.GetOutput())\n",
    "trans_registration.SetMovingImage(moving_image_reader.GetOutput())"
   ]
  },
  {
   "cell_type": "code",
   "execution_count": 40,
   "metadata": {},
   "outputs": [],
   "source": [
    "trans_registration.SetNumberOfLevels(1)\n",
    "trans_registration.SetShrinkFactorsPerLevel([3])\n",
    "trans_registration.SetSmoothingSigmasPerLevel([2])"
   ]
  },
  {
   "cell_type": "code",
   "execution_count": 41,
   "metadata": {},
   "outputs": [],
   "source": [
    "trans_metric.SetNumberOfHistogramBins(24)"
   ]
  },
  {
   "cell_type": "code",
   "execution_count": 42,
   "metadata": {},
   "outputs": [],
   "source": [
    "trans_optimizer.SetNumberOfIterations(200)\n",
    "trans_optimizer.SetRelaxationFactor(0.5)"
   ]
  },
  {
   "cell_type": "code",
   "execution_count": 43,
   "metadata": {},
   "outputs": [],
   "source": [
    "trans_optimizer.SetLearningRate(16)\n",
    "trans_optimizer.SetMinimumStepLength(1.5)"
   ]
  },
  {
   "cell_type": "code",
   "execution_count": 45,
   "metadata": {},
   "outputs": [],
   "source": [
    "trans_registration.Update()"
   ]
  },
  {
   "cell_type": "code",
   "execution_count": 46,
   "metadata": {},
   "outputs": [],
   "source": [
    "trans_metric.Initialize()"
   ]
  },
  {
   "cell_type": "code",
   "execution_count": null,
   "metadata": {},
   "outputs": [],
   "source": []
  },
  {
   "cell_type": "code",
   "execution_count": null,
   "metadata": {},
   "outputs": [],
   "source": []
  }
 ],
 "metadata": {
  "kernelspec": {
   "display_name": "py36",
   "language": "python",
   "name": "py36"
  },
  "language_info": {
   "codemirror_mode": {
    "name": "ipython",
    "version": 3
   },
   "file_extension": ".py",
   "mimetype": "text/x-python",
   "name": "python",
   "nbconvert_exporter": "python",
   "pygments_lexer": "ipython3",
   "version": "3.6.6"
  }
 },
 "nbformat": 4,
 "nbformat_minor": 2
}
